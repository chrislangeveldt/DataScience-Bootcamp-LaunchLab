{
 "cells": [
  {
   "cell_type": "markdown",
   "id": "f418fd4b",
   "metadata": {
    "id": "f418fd4b"
   },
   "source": [
    "<img src=\"images/logo.jpeg\">"
   ]
  },
  {
   "cell_type": "markdown",
   "id": "8ee6d2eb",
   "metadata": {
    "id": "8ee6d2eb"
   },
   "source": [
    "# Assignment 1: Introduction to Python\n",
    "\n",
    "This assignment tests the Python skills you have learnt in the per-course Datacamp lectures.\n",
    "\n",
    "Notes:\n",
    "- You should not hardcode a solution to any of the questions below. Doing so will result in a mark of 0 for the question."
   ]
  },
  {
   "cell_type": "code",
   "execution_count": 2,
   "id": "1d7a821b",
   "metadata": {
    "executionInfo": {
     "elapsed": 374,
     "status": "ok",
     "timestamp": 1627324370572,
     "user": {
      "displayName": "Randy Cunningham",
      "photoUrl": "",
      "userId": "09251566176394972880"
     },
     "user_tz": -120
    },
    "id": "1d7a821b"
   },
   "outputs": [],
   "source": [
    "import numpy as np\n",
    "import matplotlib.pyplot as plt\n",
    "import collections\n",
    "from scipy import spatial"
   ]
  },
  {
   "cell_type": "markdown",
   "id": "a10dfcf0",
   "metadata": {
    "id": "a10dfcf0"
   },
   "source": [
    "## Collections, NumPy and Matplotlib"
   ]
  },
  {
   "cell_type": "markdown",
   "id": "e4336869",
   "metadata": {
    "id": "e4336869"
   },
   "source": [
    "Answer the next few questions using the list created in the following code block:"
   ]
  },
  {
   "cell_type": "code",
   "execution_count": 3,
   "id": "c60e00fa",
   "metadata": {
    "colab": {
     "base_uri": "https://localhost:8080/"
    },
    "executionInfo": {
     "elapsed": 380,
     "status": "ok",
     "timestamp": 1627319160689,
     "user": {
      "displayName": "Randy Cunningham",
      "photoUrl": "",
      "userId": "09251566176394972880"
     },
     "user_tz": -120
    },
    "id": "c60e00fa",
    "outputId": "a12d549d-60a8-4832-d6ec-c7b5b2ae59e4"
   },
   "outputs": [
    {
     "data": {
      "text/plain": [
       "[4, -5, 1, 4, 9, 0, 1, 8, 5, -2, 9, 3, 1, 3, 2, 2, 1, 7, 1, -3]"
      ]
     },
     "execution_count": 3,
     "metadata": {},
     "output_type": "execute_result"
    }
   ],
   "source": [
    "my_list = list(np.random.randint(low=-5, high=10, size=20))\n",
    "my_list"
   ]
  },
  {
   "cell_type": "markdown",
   "id": "0ab18ad9",
   "metadata": {
    "id": "0ab18ad9"
   },
   "source": [
    "1.) Display the given list in reverse order. [1 point]"
   ]
  },
  {
   "cell_type": "code",
   "execution_count": 4,
   "id": "7f9320c3",
   "metadata": {
    "colab": {
     "base_uri": "https://localhost:8080/"
    },
    "executionInfo": {
     "elapsed": 639,
     "status": "ok",
     "timestamp": 1627319184765,
     "user": {
      "displayName": "Randy Cunningham",
      "photoUrl": "",
      "userId": "09251566176394972880"
     },
     "user_tz": -120
    },
    "id": "7f9320c3",
    "outputId": "d4accf9e-f74c-4ce3-a50e-d7aa57394c64"
   },
   "outputs": [
    {
     "name": "stdout",
     "output_type": "stream",
     "text": [
      "[-3, 1, 7, 1, 2, 2, 3, 1, 3, 9, -2, 5, 8, 1, 0, 9, 4, 1, -5, 4]\n"
     ]
    }
   ],
   "source": [
    "# insert code here\n",
    "reversed_list = my_list[::-1]\n",
    "print(reversed_list)"
   ]
  },
  {
   "cell_type": "markdown",
   "id": "17ae7f2a",
   "metadata": {
    "id": "17ae7f2a"
   },
   "source": [
    "2.) Square every element in the list [1 point]"
   ]
  },
  {
   "cell_type": "code",
   "execution_count": 5,
   "id": "ed25f99f",
   "metadata": {
    "colab": {
     "base_uri": "https://localhost:8080/"
    },
    "executionInfo": {
     "elapsed": 382,
     "status": "ok",
     "timestamp": 1627319306513,
     "user": {
      "displayName": "Randy Cunningham",
      "photoUrl": "",
      "userId": "09251566176394972880"
     },
     "user_tz": -120
    },
    "id": "ed25f99f",
    "outputId": "ca342132-df95-472d-90de-444b031674de"
   },
   "outputs": [
    {
     "name": "stdout",
     "output_type": "stream",
     "text": [
      "[16, 25, 1, 16, 81, 0, 1, 64, 25, 4, 81, 9, 1, 9, 4, 4, 1, 49, 1, 9]\n"
     ]
    }
   ],
   "source": [
    "# insert code here\n",
    "squared_list = list(np.array(my_list) ** 2)\n",
    "print(squared_list)"
   ]
  },
  {
   "cell_type": "markdown",
   "id": "c3b62768",
   "metadata": {
    "id": "c3b62768"
   },
   "source": [
    "3.) Remove all of the negatigve values from the list [1 point]"
   ]
  },
  {
   "cell_type": "code",
   "execution_count": 6,
   "id": "379fdec1",
   "metadata": {
    "colab": {
     "base_uri": "https://localhost:8080/"
    },
    "executionInfo": {
     "elapsed": 999,
     "status": "ok",
     "timestamp": 1627319435844,
     "user": {
      "displayName": "Randy Cunningham",
      "photoUrl": "",
      "userId": "09251566176394972880"
     },
     "user_tz": -120
    },
    "id": "379fdec1",
    "outputId": "7594b112-984a-4cd5-926f-23e92da78974"
   },
   "outputs": [
    {
     "name": "stdout",
     "output_type": "stream",
     "text": [
      "[4, 1, 4, 9, 0, 1, 8, 5, 9, 3, 1, 3, 2, 2, 1, 7, 1]\n"
     ]
    }
   ],
   "source": [
    "# insert code here\n",
    "positives = []\n",
    "for i in my_list:\n",
    "  if i >= 0:\n",
    "    positives.append(i)\n",
    "\n",
    "print(positives)"
   ]
  },
  {
   "cell_type": "markdown",
   "id": "47db780b",
   "metadata": {
    "id": "47db780b"
   },
   "source": [
    "4.) Find the index of the largest element in the list [1 point]"
   ]
  },
  {
   "cell_type": "code",
   "execution_count": 25,
   "id": "5d0ee689",
   "metadata": {
    "colab": {
     "base_uri": "https://localhost:8080/"
    },
    "executionInfo": {
     "elapsed": 581,
     "status": "ok",
     "timestamp": 1627319602473,
     "user": {
      "displayName": "Randy Cunningham",
      "photoUrl": "",
      "userId": "09251566176394972880"
     },
     "user_tz": -120
    },
    "id": "5d0ee689",
    "outputId": "72b5b8b6-0f79-4db7-e64b-e5ee217582c5"
   },
   "outputs": [
    {
     "name": "stdout",
     "output_type": "stream",
     "text": [
      "6\n"
     ]
    }
   ],
   "source": [
    "# insert code here\n",
    "max_number = max(my_list)\n",
    "max_index = my_list.index(max_number)\n",
    "print(max_index)"
   ]
  },
  {
   "cell_type": "markdown",
   "id": "2e5f9f6c",
   "metadata": {
    "id": "2e5f9f6c"
   },
   "source": [
    "5.) Print out the number of occurrences of each of the element in the list, using the following format: [1 point]\n",
    "\n",
    "\"x occurs y times in the list\""
   ]
  },
  {
   "cell_type": "code",
   "execution_count": 33,
   "id": "8ae3a70b",
   "metadata": {
    "colab": {
     "base_uri": "https://localhost:8080/"
    },
    "executionInfo": {
     "elapsed": 470,
     "status": "ok",
     "timestamp": 1627319963961,
     "user": {
      "displayName": "Randy Cunningham",
      "photoUrl": "",
      "userId": "09251566176394972880"
     },
     "user_tz": -120
    },
    "id": "8ae3a70b",
    "outputId": "7413df5f-e2b3-4f3c-f4a1-f1deaead572a"
   },
   "outputs": [
    {
     "name": "stdout",
     "output_type": "stream",
     "text": [
      "3 occurs 4 times in the list\n",
      "-2 occurs 1 times in the list\n",
      "-1 occurs 1 times in the list\n",
      "-3 occurs 4 times in the list\n",
      "-5 occurs 1 times in the list\n",
      "8 occurs 3 times in the list\n",
      "1 occurs 1 times in the list\n",
      "4 occurs 3 times in the list\n",
      "7 occurs 1 times in the list\n",
      "2 occurs 1 times in the list\n"
     ]
    }
   ],
   "source": [
    "# insert code here\n",
    "occurences = collections.Counter(my_list)\n",
    "\n",
    "dict_occurences = dict(occurences)\n",
    "\n",
    "for key, value in dict_occurences.items():\n",
    "  print(str(key) + \" occurs \" + str(value) + \" times in the list\")"
   ]
  },
  {
   "cell_type": "markdown",
   "id": "5a6cb54b",
   "metadata": {
    "id": "5a6cb54b"
   },
   "source": [
    "Use the following data for the next few questions:"
   ]
  },
  {
   "cell_type": "code",
   "execution_count": 35,
   "id": "d1a7d64b",
   "metadata": {
    "executionInfo": {
     "elapsed": 426,
     "status": "ok",
     "timestamp": 1627320191516,
     "user": {
      "displayName": "Randy Cunningham",
      "photoUrl": "",
      "userId": "09251566176394972880"
     },
     "user_tz": -120
    },
    "id": "d1a7d64b"
   },
   "outputs": [],
   "source": [
    "names = [\"Northern Cape\", \"Eastern Cape\", \"Western Cape\"]\n",
    "areas = [372889, 168966, 129462]\n",
    "provinces = {'Free State': 129825, 'Limpopo': 125755, 'North West': 104882, 'KwaZulu-Natal': 94361, 'Mpumalanga': 76495, 'Gauteng': 18178}"
   ]
  },
  {
   "cell_type": "markdown",
   "id": "cf1a8343",
   "metadata": {
    "id": "cf1a8343"
   },
   "source": [
    "xx.) Create a dictionary, `cape`, of the the Cape province names and their corresponding areas [1 point]"
   ]
  },
  {
   "cell_type": "code",
   "execution_count": 38,
   "id": "70da5d42",
   "metadata": {
    "colab": {
     "base_uri": "https://localhost:8080/"
    },
    "executionInfo": {
     "elapsed": 551,
     "status": "ok",
     "timestamp": 1627320255762,
     "user": {
      "displayName": "Randy Cunningham",
      "photoUrl": "",
      "userId": "09251566176394972880"
     },
     "user_tz": -120
    },
    "id": "70da5d42",
    "outputId": "1454d65b-28c1-4979-ad79-c35f9005039a"
   },
   "outputs": [
    {
     "name": "stdout",
     "output_type": "stream",
     "text": [
      "{'Northern Cape': 372889, 'Eastern Cape': 168966, 'Western Cape': 129462}\n"
     ]
    }
   ],
   "source": [
    "# insert code here\n",
    "cape_zip = zip(names, areas)\n",
    "cape = dict(cape_zip)\n",
    "print(cape)"
   ]
  },
  {
   "cell_type": "markdown",
   "id": "bc81509e",
   "metadata": {
    "id": "bc81509e"
   },
   "source": [
    "xx.) Update the `provinces` dictionary to include the `cape` data using an appropriate built-in dictionary function [1 point]"
   ]
  },
  {
   "cell_type": "code",
   "execution_count": 45,
   "id": "7ee5256d",
   "metadata": {
    "colab": {
     "base_uri": "https://localhost:8080/"
    },
    "executionInfo": {
     "elapsed": 503,
     "status": "ok",
     "timestamp": 1627320632714,
     "user": {
      "displayName": "Randy Cunningham",
      "photoUrl": "",
      "userId": "09251566176394972880"
     },
     "user_tz": -120
    },
    "id": "7ee5256d",
    "outputId": "03136df3-dc48-4499-e83d-9769b2a1b0f2"
   },
   "outputs": [
    {
     "name": "stdout",
     "output_type": "stream",
     "text": [
      "{'Free State': 129825, 'Limpopo': 125755, 'North West': 104882, 'KwaZulu-Natal': 94361, 'Mpumalanga': 76495, 'Gauteng': 18178, 'Northern Cape': 372889, 'Eastern Cape': 168966, 'Western Cape': 129462}\n"
     ]
    }
   ],
   "source": [
    "provinces.update(cape)\n",
    "print(provinces)"
   ]
  },
  {
   "cell_type": "markdown",
   "id": "5e56def4",
   "metadata": {
    "id": "5e56def4"
   },
   "source": [
    "xx.) Print out the sum of the areas of all of the provinces [1 point]"
   ]
  },
  {
   "cell_type": "code",
   "execution_count": 48,
   "id": "37225db9",
   "metadata": {
    "colab": {
     "base_uri": "https://localhost:8080/"
    },
    "executionInfo": {
     "elapsed": 451,
     "status": "ok",
     "timestamp": 1627321035156,
     "user": {
      "displayName": "Randy Cunningham",
      "photoUrl": "",
      "userId": "09251566176394972880"
     },
     "user_tz": -120
    },
    "id": "37225db9",
    "outputId": "6f7980f2-9d32-46e5-bb82-aeced8f1e9c0"
   },
   "outputs": [
    {
     "name": "stdout",
     "output_type": "stream",
     "text": [
      "1220813\n"
     ]
    }
   ],
   "source": [
    "# Insert code here\n",
    "all_areas = []\n",
    "for key, value in provinces.items():\n",
    "  all_areas.append(value)\n",
    "\n",
    "np_all_areas = np.array(all_areas)\n",
    "print(np_all_areas.sum())"
   ]
  },
  {
   "cell_type": "markdown",
   "id": "0ad53225",
   "metadata": {
    "id": "0ad53225"
   },
   "source": [
    "xx.) Display the provinces and their corresponding areas in alphabetical order [1 point]"
   ]
  },
  {
   "cell_type": "code",
   "execution_count": 54,
   "id": "5836046f",
   "metadata": {
    "colab": {
     "base_uri": "https://localhost:8080/"
    },
    "executionInfo": {
     "elapsed": 1282,
     "status": "ok",
     "timestamp": 1627321667464,
     "user": {
      "displayName": "Randy Cunningham",
      "photoUrl": "",
      "userId": "09251566176394972880"
     },
     "user_tz": -120
    },
    "id": "5836046f",
    "outputId": "abe64b81-3b9a-4848-e29f-543bc9dc69c1"
   },
   "outputs": [
    {
     "name": "stdout",
     "output_type": "stream",
     "text": [
      "Eastern Cape: 168966\n",
      "Free State: 129825\n",
      "Gauteng: 18178\n",
      "KwaZulu-Natal: 94361\n",
      "Limpopo: 125755\n",
      "Mpumalanga: 76495\n",
      "North West: 104882\n",
      "Northern Cape: 372889\n",
      "Western Cape: 129462\n"
     ]
    }
   ],
   "source": [
    "# Insert code here\n",
    "sorted_dict = dict(sorted(provinces.items()))\n",
    "for key, value in sorted_dict.items():\n",
    "  print(str(key) + \": \" + str(value))"
   ]
  },
  {
   "cell_type": "markdown",
   "id": "1551d2c4",
   "metadata": {
    "id": "1551d2c4"
   },
   "source": [
    "Using `matplotlib`, plot a barplot of the sizes of the provinces. \n",
    "\n",
    "The sizes should be on the y-axis, and the province names on the x-axis. Specify an appropriate title, add an x- and y-label, and rotate the x-axis labels.\n",
    "[5 points]"
   ]
  },
  {
   "cell_type": "code",
   "execution_count": 68,
   "id": "ffc09aaf",
   "metadata": {
    "colab": {
     "base_uri": "https://localhost:8080/",
     "height": 359
    },
    "executionInfo": {
     "elapsed": 1206,
     "status": "ok",
     "timestamp": 1627322525490,
     "user": {
      "displayName": "Randy Cunningham",
      "photoUrl": "",
      "userId": "09251566176394972880"
     },
     "user_tz": -120
    },
    "id": "ffc09aaf",
    "outputId": "b899254d-ed71-4fc1-d2e2-60da144225c1"
   },
   "outputs": [
    {
     "data": {
      "image/png": "[encoded data removed]",
      "text/plain": [
       "<Figure size 432x288 with 1 Axes>"
      ]
     },
     "metadata": {
      "needs_background": "light",
      "tags": []
     },
     "output_type": "display_data"
    }
   ],
   "source": [
    "# insert code here\n",
    "fig, ax = plt.subplots()\n",
    "ax.bar(sorted_dict.keys(), sorted_dict.values())\n",
    "ax.set_xlabel(\"Provinces\")\n",
    "ax.set_xticklabels(sorted_dict, rotation = 90)\n",
    "ax.set_ylabel(\"Area km^2\")\n",
    "ax.set_title(\"Area (km^2) of South African provinces\")\n",
    "plt.show()"
   ]
  },
  {
   "cell_type": "markdown",
   "id": "783e9e4a",
   "metadata": {
    "id": "783e9e4a"
   },
   "source": [
    "Use the following matrices and vectors for the next few questions:"
   ]
  },
  {
   "cell_type": "code",
   "execution_count": 70,
   "id": "1a4fff67",
   "metadata": {
    "colab": {
     "base_uri": "https://localhost:8080/"
    },
    "executionInfo": {
     "elapsed": 465,
     "status": "ok",
     "timestamp": 1627322874788,
     "user": {
      "displayName": "Randy Cunningham",
      "photoUrl": "",
      "userId": "09251566176394972880"
     },
     "user_tz": -120
    },
    "id": "1a4fff67",
    "outputId": "73f5bbf5-9522-4e76-e88a-dcee5b31cc79"
   },
   "outputs": [
    {
     "name": "stdout",
     "output_type": "stream",
     "text": [
      "A = \n",
      "[[2 7 8]\n",
      " [3 4 8]\n",
      " [5 9 8]]\n",
      "\n",
      "B = \n",
      "[[6 7 7]\n",
      " [1 5 3]\n",
      " [8 6 0]]\n",
      "\n",
      "vec1 = \n",
      "[3 8 8]\n",
      "\n",
      "vec2 = \n",
      "[4 4 8]\n",
      "\n"
     ]
    }
   ],
   "source": [
    "A = np.random.randint(low=0, high=10, size=(3, 3))\n",
    "B = np.random.randint(low=0, high=10, size=(3, 3))\n",
    "vec1 = np.random.randint(low=0, high=10, size=3)\n",
    "vec2 = np.random.randint(low=0, high=10, size=3)\n",
    "print(f\"A = \\n{A}\\n\")\n",
    "print(f\"B = \\n{B}\\n\")\n",
    "print(f\"vec1 = \\n{vec1}\\n\")\n",
    "print(f\"vec2 = \\n{vec2}\\n\")"
   ]
  },
  {
   "cell_type": "markdown",
   "id": "2d0dab86",
   "metadata": {
    "id": "2d0dab86"
   },
   "source": [
    "xx.) Find the average of the entries in `vec1` and print the result. [1 point]"
   ]
  },
  {
   "cell_type": "code",
   "execution_count": 80,
   "id": "51498b75",
   "metadata": {
    "colab": {
     "base_uri": "https://localhost:8080/"
    },
    "executionInfo": {
     "elapsed": 511,
     "status": "ok",
     "timestamp": 1627323094432,
     "user": {
      "displayName": "Randy Cunningham",
      "photoUrl": "",
      "userId": "09251566176394972880"
     },
     "user_tz": -120
    },
    "id": "51498b75",
    "outputId": "d78687fa-e064-4b21-c4a1-fd1d991def5c"
   },
   "outputs": [
    {
     "name": "stdout",
     "output_type": "stream",
     "text": [
      "Average of vec1 entries is: 6.33\n"
     ]
    }
   ],
   "source": [
    "# Insert code\n",
    "np_vec1 = np.array(vec1)\n",
    "np_vec1_avg = np_vec1.mean()\n",
    "print(f\"Average of vec1 entries is: {np_vec1_avg.round(2)}\")\n"
   ]
  },
  {
   "cell_type": "markdown",
   "id": "1c428caf",
   "metadata": {
    "id": "1c428caf"
   },
   "source": [
    "xx.) Find the element-wise difference between `vec1` and `vec2`, and print the result. [1 point]"
   ]
  },
  {
   "cell_type": "code",
   "execution_count": 81,
   "id": "bd444228",
   "metadata": {
    "colab": {
     "base_uri": "https://localhost:8080/"
    },
    "executionInfo": {
     "elapsed": 413,
     "status": "ok",
     "timestamp": 1627323247711,
     "user": {
      "displayName": "Randy Cunningham",
      "photoUrl": "",
      "userId": "09251566176394972880"
     },
     "user_tz": -120
    },
    "id": "bd444228",
    "outputId": "c7643301-c3ef-4f9d-e9da-9f6759eabeb2"
   },
   "outputs": [
    {
     "name": "stdout",
     "output_type": "stream",
     "text": [
      "[-1  4  0]\n"
     ]
    }
   ],
   "source": [
    "# insert code here\n",
    "np_vec2 = np.array(vec2)\n",
    "diff_vec1_vec2 = np_vec1 - np_vec2\n",
    "print(diff_vec1_vec2)"
   ]
  },
  {
   "cell_type": "markdown",
   "id": "5aefe8a3",
   "metadata": {
    "id": "5aefe8a3"
   },
   "source": [
    "xx.) Find the Euclidean distance between `vec1` and `vec2`. [1 point]"
   ]
  },
  {
   "cell_type": "code",
   "execution_count": 85,
   "id": "10da946e",
   "metadata": {
    "colab": {
     "base_uri": "https://localhost:8080/"
    },
    "executionInfo": {
     "elapsed": 417,
     "status": "ok",
     "timestamp": 1627324180595,
     "user": {
      "displayName": "Randy Cunningham",
      "photoUrl": "",
      "userId": "09251566176394972880"
     },
     "user_tz": -120
    },
    "id": "10da946e",
    "outputId": "ae00ff87-c119-4e5d-ea15-e4bc75eb3936"
   },
   "outputs": [
    {
     "name": "stdout",
     "output_type": "stream",
     "text": [
      "Euclidean distance is: 4.12\n"
     ]
    }
   ],
   "source": [
    "# insert code here\n",
    "euc_dist = np.linalg.norm(np_vec1 - np_vec2)\n",
    "print(f\"Euclidean distance is: {euc_dist.round(2)}\")"
   ]
  },
  {
   "cell_type": "markdown",
   "id": "a06c9624",
   "metadata": {
    "id": "a06c9624"
   },
   "source": [
    "xx.) Find the cosine distance between `vec1` and `vec2`. [1 point]"
   ]
  },
  {
   "cell_type": "code",
   "execution_count": 94,
   "id": "f52594f3",
   "metadata": {
    "colab": {
     "base_uri": "https://localhost:8080/"
    },
    "executionInfo": {
     "elapsed": 377,
     "status": "ok",
     "timestamp": 1627324397122,
     "user": {
      "displayName": "Randy Cunningham",
      "photoUrl": "",
      "userId": "09251566176394972880"
     },
     "user_tz": -120
    },
    "id": "f52594f3",
    "outputId": "263e6c82-80ef-4ed4-8301-c5ad90d7d5de"
   },
   "outputs": [
    {
     "name": "stdout",
     "output_type": "stream",
     "text": [
      "Cosine distance: 0.06\n"
     ]
    }
   ],
   "source": [
    "# insert code here\n",
    "cosine_distance = spatial.distance.cosine(vec1, vec2)\n",
    "print(f\"Cosine distance: {cosine_distance.round(2)}\")"
   ]
  },
  {
   "cell_type": "markdown",
   "id": "82065fb5",
   "metadata": {
    "id": "82065fb5"
   },
   "source": [
    "xx.) Scale (multiply) all the entries of `vec1` by its mean, and print the result. [1 point]"
   ]
  },
  {
   "cell_type": "code",
   "execution_count": 96,
   "id": "9b9f7282",
   "metadata": {
    "colab": {
     "base_uri": "https://localhost:8080/"
    },
    "executionInfo": {
     "elapsed": 437,
     "status": "ok",
     "timestamp": 1627324487729,
     "user": {
      "displayName": "Randy Cunningham",
      "photoUrl": "",
      "userId": "09251566176394972880"
     },
     "user_tz": -120
    },
    "id": "9b9f7282",
    "outputId": "1536e0b2-1bbf-4136-cc78-b91dead55010"
   },
   "outputs": [
    {
     "name": "stdout",
     "output_type": "stream",
     "text": [
      "[19.         50.66666667 50.66666667]\n"
     ]
    }
   ],
   "source": [
    "# insert code here\n",
    "mean_vec1 = np_vec1.mean()\n",
    "print(np_vec1 * mean_vec1)"
   ]
  },
  {
   "cell_type": "markdown",
   "id": "7e6f54e3",
   "metadata": {
    "id": "7e6f54e3"
   },
   "source": [
    "xx.) Normalize `vec1` and print the result. [1 point]"
   ]
  },
  {
   "cell_type": "code",
   "execution_count": 98,
   "id": "dea0652c",
   "metadata": {
    "colab": {
     "base_uri": "https://localhost:8080/"
    },
    "executionInfo": {
     "elapsed": 439,
     "status": "ok",
     "timestamp": 1627324844643,
     "user": {
      "displayName": "Randy Cunningham",
      "photoUrl": "",
      "userId": "09251566176394972880"
     },
     "user_tz": -120
    },
    "id": "dea0652c",
    "outputId": "8f9c3e19-7ba1-4851-a8ed-baa780b32b87"
   },
   "outputs": [
    {
     "name": "stdout",
     "output_type": "stream",
     "text": [
      "[0.2563073  0.68348613 0.68348613]\n"
     ]
    }
   ],
   "source": [
    "# insert code here\n",
    "norm_vec1 = np_vec1/np.linalg.norm(np_vec1)\n",
    "print(norm_vec1)"
   ]
  },
  {
   "cell_type": "markdown",
   "id": "97a25158",
   "metadata": {
    "id": "97a25158"
   },
   "source": [
    "xx.) Find the matrix product of `A` and `B` [1 point]"
   ]
  },
  {
   "cell_type": "code",
   "execution_count": 99,
   "id": "264eb044",
   "metadata": {
    "colab": {
     "base_uri": "https://localhost:8080/"
    },
    "executionInfo": {
     "elapsed": 394,
     "status": "ok",
     "timestamp": 1627327226491,
     "user": {
      "displayName": "Randy Cunningham",
      "photoUrl": "",
      "userId": "09251566176394972880"
     },
     "user_tz": -120
    },
    "id": "264eb044",
    "outputId": "760ade10-44c3-40e1-8f7b-3bd0d3128d11"
   },
   "outputs": [
    {
     "name": "stdout",
     "output_type": "stream",
     "text": [
      "[[ 83  97  35]\n",
      " [ 86  89  33]\n",
      " [103 128  62]]\n"
     ]
    }
   ],
   "source": [
    "# insert code here\n",
    "mat_prod_A_B = A @ B\n",
    "print(mat_prod_A_B)"
   ]
  },
  {
   "cell_type": "markdown",
   "id": "4cea4664",
   "metadata": {
    "id": "4cea4664"
   },
   "source": [
    "xx.) Given the matrix, `A`, subtract the column mean of `A` from each entry. This has the effect of zero-centering the data and is often done in algorithms such as principal components analysis or when running computer vision models. [1 point]"
   ]
  },
  {
   "cell_type": "code",
   "execution_count": 103,
   "id": "5ebea32e",
   "metadata": {
    "colab": {
     "base_uri": "https://localhost:8080/"
    },
    "executionInfo": {
     "elapsed": 448,
     "status": "ok",
     "timestamp": 1627327644068,
     "user": {
      "displayName": "Randy Cunningham",
      "photoUrl": "",
      "userId": "09251566176394972880"
     },
     "user_tz": -120
    },
    "id": "5ebea32e",
    "outputId": "1d0ebc61-2d7d-499e-e7d8-0962fc7d8710"
   },
   "outputs": [
    {
     "name": "stdout",
     "output_type": "stream",
     "text": [
      "[[-1.33333333  0.33333333  0.        ]\n",
      " [-0.33333333 -2.66666667  0.        ]\n",
      " [ 1.66666667  2.33333333  0.        ]]\n"
     ]
    }
   ],
   "source": [
    "# Insert cdoe\n",
    "col_mean_A = A.mean(axis = 0)\n",
    "zero_cent_A = A - col_mean_A\n",
    "print(zero_cent_A)"
   ]
  },
  {
   "cell_type": "markdown",
   "id": "8c053408",
   "metadata": {
    "id": "8c053408"
   },
   "source": [
    "xx.) Given a vector `vec1`, compute the softmax scores of the vector. [1 point]\n"
   ]
  },
  {
   "cell_type": "code",
   "execution_count": 107,
   "id": "063ae0dd",
   "metadata": {
    "colab": {
     "base_uri": "https://localhost:8080/"
    },
    "executionInfo": {
     "elapsed": 602,
     "status": "ok",
     "timestamp": 1627328446824,
     "user": {
      "displayName": "Randy Cunningham",
      "photoUrl": "",
      "userId": "09251566176394972880"
     },
     "user_tz": -120
    },
    "id": "063ae0dd",
    "outputId": "9cbf5eb5-d549-4c13-ce79-ae75216da4a3"
   },
   "outputs": [
    {
     "name": "stdout",
     "output_type": "stream",
     "text": [
      "Softmax scores: [0.00335766 0.49832117 0.49832117]\n"
     ]
    }
   ],
   "source": [
    "# Insert code\n",
    "def softmax(x):\n",
    "    \"\"\"Compute softmax values for each sets of scores in x.\"\"\"\n",
    "    e_x = np.exp(x - np.max(x))\n",
    "    print(f\"Softmax scores: {e_x / e_x.sum()}\")\n",
    "\n",
    "scores = np_vec1\n",
    "\n",
    "softmax(scores)"
   ]
  },
  {
   "cell_type": "markdown",
   "id": "98ee1dcd",
   "metadata": {
    "id": "98ee1dcd"
   },
   "source": [
    "# Functions"
   ]
  },
  {
   "cell_type": "markdown",
   "id": "b43b4159",
   "metadata": {
    "id": "b43b4159"
   },
   "source": [
    "Write a function named `sign`, which returns a string `positive`, `negative`, or `zero`, given an interger value as input to the function [3 points]."
   ]
  },
  {
   "cell_type": "code",
   "execution_count": 111,
   "id": "7b747f52",
   "metadata": {
    "colab": {
     "base_uri": "https://localhost:8080/"
    },
    "executionInfo": {
     "elapsed": 449,
     "status": "ok",
     "timestamp": 1627328924715,
     "user": {
      "displayName": "Randy Cunningham",
      "photoUrl": "",
      "userId": "09251566176394972880"
     },
     "user_tz": -120
    },
    "id": "7b747f52",
    "outputId": "ff09db34-d8e0-4781-9105-53ded6d22e75"
   },
   "outputs": [
    {
     "name": "stdout",
     "output_type": "stream",
     "text": [
      "negative\n",
      "zero\n",
      "positive\n"
     ]
    }
   ],
   "source": [
    "# insert code here\n",
    "def sign(x):\n",
    "  if x > 0:\n",
    "    return \"positive\"\n",
    "  elif x < 0:\n",
    "    return \"negative\"\n",
    "  elif x == 0:\n",
    "    return \"zero\"\n",
    "\n",
    "# Test\n",
    "for x in [-1, 0, 1]:\n",
    "  print(sign(x))"
   ]
  },
  {
   "cell_type": "markdown",
   "id": "727e2c36",
   "metadata": {
    "id": "727e2c36"
   },
   "source": [
    "Write a fuction that returns the minimum value given an arbitrary number of integers as input paramters. [4 points]"
   ]
  },
  {
   "cell_type": "code",
   "execution_count": 115,
   "id": "b5f6df18",
   "metadata": {
    "colab": {
     "base_uri": "https://localhost:8080/"
    },
    "executionInfo": {
     "elapsed": 381,
     "status": "ok",
     "timestamp": 1627329376582,
     "user": {
      "displayName": "Randy Cunningham",
      "photoUrl": "",
      "userId": "09251566176394972880"
     },
     "user_tz": -120
    },
    "id": "b5f6df18",
    "outputId": "256142b0-3fa4-4492-dc1b-337a2364e44f"
   },
   "outputs": [
    {
     "name": "stdout",
     "output_type": "stream",
     "text": [
      "2\n",
      "-10\n"
     ]
    }
   ],
   "source": [
    "# Insert function \n",
    "min_number = 0\n",
    "def my_min(*args):\n",
    "  min_number = args[0]\n",
    "  for i in args:\n",
    "    if i < min_number:\n",
    "      min_number = i\n",
    "\n",
    "  return min_number\n",
    "\n",
    "\n",
    "# Test\n",
    "print(my_min(4, 5, 6, 7, 2)) # returns 2\n",
    "print(my_min(-10, 5, 3, -4, 1, 10, 3, 6)) # returns -10"
   ]
  },
  {
   "cell_type": "markdown",
   "id": "66ab2aa5",
   "metadata": {
    "id": "66ab2aa5"
   },
   "source": [
    "Write a recursive function to display the Fibonacci sequence using recursion. \n",
    "\n",
    "The first two terms are 0 and 1. All other terms are obtained by adding the preceding two terms i.e. the n-th term is the sum of (n-1)-th and (n-2)-th term. [4 points]"
   ]
  },
  {
   "cell_type": "code",
   "execution_count": 116,
   "id": "4f40f09a",
   "metadata": {
    "colab": {
     "base_uri": "https://localhost:8080/"
    },
    "executionInfo": {
     "elapsed": 654,
     "status": "ok",
     "timestamp": 1627329723510,
     "user": {
      "displayName": "Randy Cunningham",
      "photoUrl": "",
      "userId": "09251566176394972880"
     },
     "user_tz": -120
    },
    "id": "4f40f09a",
    "outputId": "3a5cd99b-a26f-497b-fb23-6efefedab78f"
   },
   "outputs": [
    {
     "name": "stdout",
     "output_type": "stream",
     "text": [
      "0\n",
      "1\n",
      "1\n",
      "2\n",
      "3\n",
      "5\n",
      "8\n",
      "13\n",
      "21\n",
      "34\n"
     ]
    }
   ],
   "source": [
    "# Insert code here\n",
    "def recur_fibo(n):\n",
    "  if n <= 1:\n",
    "    return n\n",
    "  else:\n",
    "    return(recur_fibo(n-1) + recur_fibo(n-2))\n",
    "\n",
    "# Test\n",
    "for i in range(10):\n",
    "  print(recur_fibo(i))"
   ]
  },
  {
   "cell_type": "markdown",
   "id": "16c05ca7",
   "metadata": {
    "id": "16c05ca7"
   },
   "source": [
    "# Classes\n",
    "\n"
   ]
  },
  {
   "cell_type": "markdown",
   "id": "70e4faad",
   "metadata": {
    "id": "70e4faad"
   },
   "source": [
    "Create a class called `Circle`.\n",
    "You are required to implement the following:\n",
    "* The constructor of the class should take two floats that specify the `x` and `y` coordinates of the circle, a float specifying the `radius` of the circle. [2 points]\n",
    "* A function, `str_circle`, which prints properties of a circle as follow: [2 points]\n",
    "            Circle at location x = ___ and y = ___ with radius = ___\n",
    "* A function, `dist`, which returns the euclidean distance between two circles' centers. [4 points]\n",
    "* A function,`overlap`, which returns `True` if two circles overlap and `False` otherwise. [3 points]\n",
    "* A function, `area`, which calculates the area of the circle. [3 point].\n",
    "* A function, `overlap_area`, which calculates the area of the overlapping portion of two circles. [6 points]\n",
    "\n",
    "The formula for calculating the overlapping area between two circles is provided below:\n",
    "\n",
    "\\begin{equation}\n",
    "\\small\n",
    "A = \n",
    "r^2\\text{cos}^{-1}(\\frac{d^2+r^2-R^2}{2dr}) + R^2\\text{cos}^{-1}(\\frac{d^2+R^2-r^2}{2dR}) -\n",
    "\\frac{1}{2}\\sqrt{(-d+r+R)(d+r-R)(d-r+R)(d+r+R)}\n",
    "\\end{equation}\n",
    "\n",
    "where\n",
    "\n",
    "$\\;\\;\\;\\;\\;\\;\\;\\;$A = area of overlapping <br>\n",
    "$\\;\\;\\;\\;\\;\\;\\;\\;$r = radius of circle 1 <br>\n",
    "$\\;\\;\\;\\;\\;\\;\\;\\;$R = radius of circle 2 <br>\n",
    "$\\;\\;\\;\\;\\;\\;\\;\\;$d = distance between the circles <br>"
   ]
  },
  {
   "cell_type": "code",
   "execution_count": 29,
   "id": "ccf753ff",
   "metadata": {
    "colab": {
     "base_uri": "https://localhost:8080/",
     "height": 214
    },
    "executionInfo": {
     "elapsed": 444,
     "status": "error",
     "timestamp": 1627333958511,
     "user": {
      "displayName": "Randy Cunningham",
      "photoUrl": "",
      "userId": "09251566176394972880"
     },
     "user_tz": -120
    },
    "id": "ccf753ff",
    "outputId": "30200056-2412-4ab7-99f6-2111d74872c2"
   },
   "outputs": [
    {
     "name": "stdout",
     "output_type": "stream",
     "text": [
      "Circle at location x = 2.0 and y = 1.0 with radius 1.0\n"
     ]
    }
   ],
   "source": [
    "import math\n",
    "\n",
    "# Insert class here:\n",
    "class Circle():\n",
    "    # Insert constructor code\n",
    "    def __init__(self, x, y, r):\n",
    "      self.x = float(x)\n",
    "      self.y = float(y)\n",
    "      self.radius = float(r)\n",
    "\n",
    "    def str_circle(self):\n",
    "      print(f\"Circle at location x = {self.x} and y = {self.y} with radius {self.radius}\")\n",
    "        \n",
    "\n",
    "    def dist(self, other):\n",
    "      dist = math.sqrt((self.x - other.x) ** 2 + (self.y - other.y) ** 2)\n",
    "      return dist\n",
    "          \n",
    "      \n",
    "    def overlap(self, other):\n",
    "      dist_bet_circs = math.sqrt((self.x - other.x)**2 + (self.y - other.y)**2)\n",
    "      if dist_bet_circs > (self.radius + other.radius):\n",
    "        return False\n",
    "      else:\n",
    "        return True\n",
    "               \n",
    "\n",
    "    def area(self):\n",
    "      return 2*self.radius*3.14\n",
    "        \n",
    "        \n",
    "\n",
    "    def overlap_area(self, other):\n",
    "      dist_bet_circs = math.sqrt((self.x - other.x)**2 + (self.y - other.y)**2)\n",
    "\n",
    "      area = (self.radius**2)*(math.degrees(math.acos((dist_bet_circs**2 + self.radius**2 - other.radius**2)/(2*dist_bet_circs*self.radius)))) + (other.radius**2)*(math.degrees(math.acos((dist_bet_circs**2 + other.radius**2 - self.radius**2)/(2*dist_bet_circs*other.radius)))) - 0.5*sqrt((-dist_bet_circs + self.radius + other.radius)(dist_bet_circs + self.radius - other.radius)(dist_bet_circs - self.radius + other.radius)(dist_bet_circs + self.radius + other.radius))\n",
    " \n",
    "      return area\n",
    "\n",
    "circle1 = Circle(2, 1, 1)\n",
    "circle2 = Circle(-1, -2, 3)\n",
    "Circle.str_circle(circle1)\n",
    "\n"
   ]
  },
  {
   "cell_type": "markdown",
   "id": "05c9b5fe",
   "metadata": {
    "id": "05c9b5fe"
   },
   "source": [
    "The next few snippets of code can be used to verify that your implementation of the functions of `Circle` is working correctly."
   ]
  },
  {
   "cell_type": "markdown",
   "id": "3e8f980d",
   "metadata": {
    "id": "3e8f980d"
   },
   "source": [
    "Create the following two circles: [1 point]\n",
    "* `circle1`: x = 2, y = 1, rad = 1\n",
    "* `circle2`: x = -1, y = -2, rad = 3 "
   ]
  },
  {
   "cell_type": "code",
   "execution_count": 129,
   "id": "b9bcea1f",
   "metadata": {
    "executionInfo": {
     "elapsed": 458,
     "status": "ok",
     "timestamp": 1627332718431,
     "user": {
      "displayName": "Randy Cunningham",
      "photoUrl": "",
      "userId": "09251566176394972880"
     },
     "user_tz": -120
    },
    "id": "b9bcea1f"
   },
   "outputs": [],
   "source": [
    "# insert code\n",
    "circle1 = Circle(2, 1, 1)\n",
    "cirlce2 = Circle(-1, -2, 3)"
   ]
  },
  {
   "cell_type": "markdown",
   "id": "554dd45e",
   "metadata": {
    "id": "554dd45e"
   },
   "source": [
    "Print out the circles using `str_circle`"
   ]
  },
  {
   "cell_type": "code",
   "execution_count": 14,
   "id": "2ec37716",
   "metadata": {
    "executionInfo": {
     "elapsed": 1,
     "status": "ok",
     "timestamp": 1627333025422,
     "user": {
      "displayName": "Randy Cunningham",
      "photoUrl": "",
      "userId": "09251566176394972880"
     },
     "user_tz": -120
    },
    "id": "2ec37716"
   },
   "outputs": [
    {
     "name": "stdout",
     "output_type": "stream",
     "text": [
      "Circle at location x = 2.0 and y = 1.0 with radius 1.0\n",
      "Circle at location x = -1.0 and y = -2.0 with radius 3.0\n"
     ]
    }
   ],
   "source": [
    "# insert code\n",
    "Circle.str_circle(circle1)\n",
    "Circle.str_circle(circle2)"
   ]
  },
  {
   "cell_type": "markdown",
   "id": "e2482d8f",
   "metadata": {
    "id": "e2482d8f"
   },
   "source": [
    "Print the distance between circle 1 and 2."
   ]
  },
  {
   "cell_type": "code",
   "execution_count": 18,
   "id": "3c3ccede",
   "metadata": {
    "colab": {
     "base_uri": "https://localhost:8080/",
     "height": 197
    },
    "executionInfo": {
     "elapsed": 442,
     "status": "error",
     "timestamp": 1627332975583,
     "user": {
      "displayName": "Randy Cunningham",
      "photoUrl": "",
      "userId": "09251566176394972880"
     },
     "user_tz": -120
    },
    "id": "3c3ccede",
    "outputId": "f7b43a44-e773-49a0-c0d8-67f3d0db8e8c"
   },
   "outputs": [
    {
     "data": {
      "text/plain": [
       "4.242640687119285"
      ]
     },
     "execution_count": 18,
     "metadata": {},
     "output_type": "execute_result"
    }
   ],
   "source": [
    "# call dist( ) here and print out the result\n",
    "# insert code\n",
    "Circle.dist(circle1, circle2)"
   ]
  },
  {
   "cell_type": "markdown",
   "id": "f281a556",
   "metadata": {
    "id": "f281a556"
   },
   "source": [
    "Check if `circle1` and `circle2` overlap."
   ]
  },
  {
   "cell_type": "code",
   "execution_count": 21,
   "id": "30f9d496",
   "metadata": {
    "id": "30f9d496",
    "outputId": "c22b3635-6a10-4564-9346-48b1d8b8cc36"
   },
   "outputs": [
    {
     "data": {
      "text/plain": [
       "False"
      ]
     },
     "execution_count": 21,
     "metadata": {},
     "output_type": "execute_result"
    }
   ],
   "source": [
    "# insert code\n",
    "Circle.overlap(circle1, circle2)"
   ]
  },
  {
   "cell_type": "markdown",
   "id": "3dc4df14",
   "metadata": {
    "id": "3dc4df14"
   },
   "source": [
    "Print out the area of `circle1` and `circle2`."
   ]
  },
  {
   "cell_type": "code",
   "execution_count": 24,
   "id": "d4c08125",
   "metadata": {
    "id": "d4c08125",
    "outputId": "0c05ca63-8202-4540-e3b4-da21224bb153"
   },
   "outputs": [
    {
     "name": "stdout",
     "output_type": "stream",
     "text": [
      "6.28\n",
      "18.84\n"
     ]
    }
   ],
   "source": [
    "# insert code\n",
    "print(Circle.area(circle1))\n",
    "print(Circle.area(circle2))"
   ]
  },
  {
   "cell_type": "markdown",
   "id": "e56f4d2e",
   "metadata": {
    "id": "e56f4d2e"
   },
   "source": [
    "Print out the overlapping area of `circle1` and `circle2`. "
   ]
  },
  {
   "cell_type": "code",
   "execution_count": 31,
   "id": "784b25af",
   "metadata": {
    "id": "784b25af",
    "outputId": "cf3f4718-89f9-446a-8d3a-8968c04925d8"
   },
   "outputs": [
    {
     "ename": "ValueError",
     "evalue": "math domain error",
     "output_type": "error",
     "traceback": [
      "\u001b[0;31m---------------------------------------------------------------------------\u001b[0m",
      "\u001b[0;31mValueError\u001b[0m                                Traceback (most recent call last)",
      "Input \u001b[0;32mIn [31]\u001b[0m, in \u001b[0;36m<module>\u001b[0;34m\u001b[0m\n\u001b[1;32m      1\u001b[0m \u001b[38;5;66;03m# insert code\u001b[39;00m\n\u001b[0;32m----> 2\u001b[0m \u001b[38;5;28mprint\u001b[39m(\u001b[38;5;124m\"\u001b[39m\u001b[38;5;124mOverlapping area: \u001b[39m\u001b[38;5;132;01m%.2f\u001b[39;00m\u001b[38;5;124m\"\u001b[39m \u001b[38;5;241m%\u001b[39m \u001b[43mCircle\u001b[49m\u001b[38;5;241;43m.\u001b[39;49m\u001b[43moverlap_area\u001b[49m\u001b[43m(\u001b[49m\u001b[43mcircle1\u001b[49m\u001b[43m,\u001b[49m\u001b[43m \u001b[49m\u001b[43mcircle2\u001b[49m\u001b[43m)\u001b[49m)\n",
      "Input \u001b[0;32mIn [29]\u001b[0m, in \u001b[0;36mCircle.overlap_area\u001b[0;34m(self, other)\u001b[0m\n\u001b[1;32m     33\u001b[0m \u001b[38;5;28;01mdef\u001b[39;00m \u001b[38;5;21moverlap_area\u001b[39m(\u001b[38;5;28mself\u001b[39m, other):\n\u001b[1;32m     34\u001b[0m   dist_bet_circs \u001b[38;5;241m=\u001b[39m math\u001b[38;5;241m.\u001b[39msqrt((\u001b[38;5;28mself\u001b[39m\u001b[38;5;241m.\u001b[39mx \u001b[38;5;241m-\u001b[39m other\u001b[38;5;241m.\u001b[39mx)\u001b[38;5;241m*\u001b[39m\u001b[38;5;241m*\u001b[39m\u001b[38;5;241m2\u001b[39m \u001b[38;5;241m+\u001b[39m (\u001b[38;5;28mself\u001b[39m\u001b[38;5;241m.\u001b[39my \u001b[38;5;241m-\u001b[39m other\u001b[38;5;241m.\u001b[39my)\u001b[38;5;241m*\u001b[39m\u001b[38;5;241m*\u001b[39m\u001b[38;5;241m2\u001b[39m)\n\u001b[0;32m---> 36\u001b[0m   area \u001b[38;5;241m=\u001b[39m (\u001b[38;5;28mself\u001b[39m\u001b[38;5;241m.\u001b[39mradius\u001b[38;5;241m*\u001b[39m\u001b[38;5;241m*\u001b[39m\u001b[38;5;241m2\u001b[39m)\u001b[38;5;241m*\u001b[39m(math\u001b[38;5;241m.\u001b[39mdegrees(\u001b[43mmath\u001b[49m\u001b[38;5;241;43m.\u001b[39;49m\u001b[43macos\u001b[49m\u001b[43m(\u001b[49m\u001b[43m(\u001b[49m\u001b[43mdist_bet_circs\u001b[49m\u001b[38;5;241;43m*\u001b[39;49m\u001b[38;5;241;43m*\u001b[39;49m\u001b[38;5;241;43m2\u001b[39;49m\u001b[43m \u001b[49m\u001b[38;5;241;43m+\u001b[39;49m\u001b[43m \u001b[49m\u001b[38;5;28;43mself\u001b[39;49m\u001b[38;5;241;43m.\u001b[39;49m\u001b[43mradius\u001b[49m\u001b[38;5;241;43m*\u001b[39;49m\u001b[38;5;241;43m*\u001b[39;49m\u001b[38;5;241;43m2\u001b[39;49m\u001b[43m \u001b[49m\u001b[38;5;241;43m-\u001b[39;49m\u001b[43m \u001b[49m\u001b[43mother\u001b[49m\u001b[38;5;241;43m.\u001b[39;49m\u001b[43mradius\u001b[49m\u001b[38;5;241;43m*\u001b[39;49m\u001b[38;5;241;43m*\u001b[39;49m\u001b[38;5;241;43m2\u001b[39;49m\u001b[43m)\u001b[49m\u001b[38;5;241;43m/\u001b[39;49m\u001b[43m(\u001b[49m\u001b[38;5;241;43m2\u001b[39;49m\u001b[38;5;241;43m*\u001b[39;49m\u001b[43mdist_bet_circs\u001b[49m\u001b[38;5;241;43m*\u001b[39;49m\u001b[38;5;28;43mself\u001b[39;49m\u001b[38;5;241;43m.\u001b[39;49m\u001b[43mradius\u001b[49m\u001b[43m)\u001b[49m\u001b[43m)\u001b[49m)) \u001b[38;5;241m+\u001b[39m (other\u001b[38;5;241m.\u001b[39mradius\u001b[38;5;241m*\u001b[39m\u001b[38;5;241m*\u001b[39m\u001b[38;5;241m2\u001b[39m)\u001b[38;5;241m*\u001b[39m(math\u001b[38;5;241m.\u001b[39mdegrees(math\u001b[38;5;241m.\u001b[39macos((dist_bet_circs\u001b[38;5;241m*\u001b[39m\u001b[38;5;241m*\u001b[39m\u001b[38;5;241m2\u001b[39m \u001b[38;5;241m+\u001b[39m other\u001b[38;5;241m.\u001b[39mradius\u001b[38;5;241m*\u001b[39m\u001b[38;5;241m*\u001b[39m\u001b[38;5;241m2\u001b[39m \u001b[38;5;241m-\u001b[39m \u001b[38;5;28mself\u001b[39m\u001b[38;5;241m.\u001b[39mradius\u001b[38;5;241m*\u001b[39m\u001b[38;5;241m*\u001b[39m\u001b[38;5;241m2\u001b[39m)\u001b[38;5;241m/\u001b[39m(\u001b[38;5;241m2\u001b[39m\u001b[38;5;241m*\u001b[39mdist_bet_circs\u001b[38;5;241m*\u001b[39mother\u001b[38;5;241m.\u001b[39mradius)))) \u001b[38;5;241m-\u001b[39m \u001b[38;5;241m0.5\u001b[39m\u001b[38;5;241m*\u001b[39msqrt((\u001b[38;5;241m-\u001b[39mdist_bet_circs \u001b[38;5;241m+\u001b[39m \u001b[38;5;28mself\u001b[39m\u001b[38;5;241m.\u001b[39mradius \u001b[38;5;241m+\u001b[39m other\u001b[38;5;241m.\u001b[39mradius)(dist_bet_circs \u001b[38;5;241m+\u001b[39m \u001b[38;5;28mself\u001b[39m\u001b[38;5;241m.\u001b[39mradius \u001b[38;5;241m-\u001b[39m other\u001b[38;5;241m.\u001b[39mradius)(dist_bet_circs \u001b[38;5;241m-\u001b[39m \u001b[38;5;28mself\u001b[39m\u001b[38;5;241m.\u001b[39mradius \u001b[38;5;241m+\u001b[39m other\u001b[38;5;241m.\u001b[39mradius)(dist_bet_circs \u001b[38;5;241m+\u001b[39m \u001b[38;5;28mself\u001b[39m\u001b[38;5;241m.\u001b[39mradius \u001b[38;5;241m+\u001b[39m other\u001b[38;5;241m.\u001b[39mradius))\n\u001b[1;32m     38\u001b[0m   \u001b[38;5;28;01mreturn\u001b[39;00m area\n",
      "\u001b[0;31mValueError\u001b[0m: math domain error"
     ]
    }
   ],
   "source": [
    "# insert code\n",
    "print(\"Overlapping area: %.2f\" % Circle.overlap_area(circle1, circle2))"
   ]
  },
  {
   "cell_type": "code",
   "execution_count": null,
   "id": "7bcf0839",
   "metadata": {},
   "outputs": [],
   "source": []
  }
 ],
 "metadata": {
  "colab": {
   "name": "Assignment 1.ipynb",
   "provenance": []
  },
  "kernelspec": {
   "display_name": "Python 3 (ipykernel)",
   "language": "python",
   "name": "python3"
  },
  "language_info": {
   "codemirror_mode": {
    "name": "ipython",
    "version": 3
   },
   "file_extension": ".py",
   "mimetype": "text/x-python",
   "name": "python",
   "nbconvert_exporter": "python",
   "pygments_lexer": "ipython3",
   "version": "3.8.10"
  }
 },
 "nbformat": 4,
 "nbformat_minor": 5
}
